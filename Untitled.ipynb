{
 "cells": [
  {
   "cell_type": "code",
   "execution_count": 1,
   "id": "0329ff44",
   "metadata": {},
   "outputs": [],
   "source": [
    "import rospy"
   ]
  },
  {
   "cell_type": "code",
   "execution_count": 2,
   "id": "eed277a7",
   "metadata": {},
   "outputs": [],
   "source": [
    "#!/usr/bin/env python3\n",
    "\n",
    "\n",
    "import rospy\n",
    "from geometry_msgs.msg import Point, Pose, Twist\n",
    "from nav_msgs.msg import Odometry\n",
    "import actionlib\n",
    "from std_srvs.srv import SetBool\n",
    "from actionlib_msgs.msg import GoalStatus\n",
    "from assignment_2_2023.msg import Vel, PlanningAction, PlanningGoal\n",
    "import ipywidgets as widgets\n",
    "from IPython.display import display, clear_output\n",
    "import threading\n",
    "\n",
    "class RobotGoalHandler:\n",
    "    def __init__(self):\n",
    "        self.velocity_publisher = None\n",
    "        self.action_client = None\n",
    "        self.is_goal_cancelled = True\n",
    "        self.goal_x_input = widgets.FloatText(value=0.0, description='Goal X:')\n",
    "        self.goal_y_input = widgets.FloatText(value=0.0, description='Goal Y:')\n",
    "        self.set_goal_button = widgets.Button(description='Set New Goal')\n",
    "        self.cancel_goal_button = widgets.Button(description='Cancel Current Goal')\n",
    "        self.output_area = widgets.Output()\n",
    "\n",
    "    def initialize_ros_components(self):\n",
    "        rospy.init_node('set_robot_target_client', anonymous=True, disable_signals=True)\n",
    "        self.velocity_publisher = rospy.Publisher(\"/pos_vel\", Vel, queue_size=10)\n",
    "        self.action_client = actionlib.SimpleActionClient('/reaching_goal', PlanningAction)\n",
    "        self.action_client.wait_for_server()\n",
    "\n",
    "    def setup_widgets(self):\n",
    "        self.set_goal_button.on_click(self.on_set_goal_clicked)\n",
    "        self.cancel_goal_button.on_click(self.on_cancel_goal_clicked)\n",
    "        display(widgets.VBox([self.goal_x_input, self.goal_y_input, self.set_goal_button, self.cancel_goal_button, self.output_area]))\n",
    "\n",
    "    def on_set_goal_clicked(self, b):\n",
    "        with self.output_area:\n",
    "            clear_output(wait=True)\n",
    "            self.set_new_goal()\n",
    "\n",
    "    def on_cancel_goal_clicked(self, b):\n",
    "        with self.output_area:\n",
    "            clear_output(wait=True)\n",
    "            self.cancel_current_goal()\n",
    "\n",
    "    def set_new_goal(self):\n",
    "        new_goal_x = self.goal_x_input.value\n",
    "        new_goal_y = self.goal_y_input.value\n",
    "        goal = PlanningGoal()\n",
    "        goal.target_pose.pose.position.x = new_goal_x\n",
    "        goal.target_pose.pose.position.y = new_goal_y\n",
    "        rospy.loginfo(f\"Setting new goal: x={new_goal_x}, y={new_goal_y}\")\n",
    "        self.action_client.send_goal(goal)\n",
    "        self.is_goal_cancelled = False\n",
    "\n",
    "    def cancel_current_goal(self):\n",
    "        if not self.is_goal_cancelled:\n",
    "            self.action_client.cancel_goal()\n",
    "            rospy.loginfo(\"Current goal has been cancelled\")\n",
    "            self.is_goal_cancelled = True\n",
    "        else:\n",
    "            rospy.loginfo(\"No active goal to cancel\")\n",
    "\n",
    "    def run(self):\n",
    "        self.initialize_ros_components()\n",
    "        self.setup_widgets()\n",
    "\n",
    "def main():\n",
    "    # To avoid blocking the notebook, run ROS operations in a separate thread\n",
    "    rospy_thread = threading.Thread(target=run_ros_node)\n",
    "    rospy_thread.start()\n",
    "\n",
    "def run_ros_node():\n",
    "    robot_handler = RobotGoalHandler()\n",
    "    robot_handler.run()\n",
    "\n",
    "if __name__ == \"__main__\":\n",
    "    main()\n"
   ]
  },
  {
   "cell_type": "code",
   "execution_count": 3,
   "id": "021ed2f6",
   "metadata": {},
   "outputs": [
    {
     "data": {
      "application/vnd.jupyter.widget-view+json": {
       "model_id": "785168d9b54b4a7282e18a8b1d9ffcf9",
       "version_major": 2,
       "version_minor": 0
      },
      "text/plain": [
       "VBox(children=(FloatText(value=0.0, description='Goal X:'), FloatText(value=0.0, description='Goal Y:'), Butto…"
      ]
     },
     "metadata": {},
     "output_type": "display_data"
    },
    {
     "data": {
      "application/vnd.jupyter.widget-view+json": {
       "model_id": "fe39b201f8034235a6ab38f8365a72bd",
       "version_major": 2,
       "version_minor": 0
      },
      "text/plain": [
       "Canvas(toolbar=Toolbar(toolitems=[('Home', 'Reset original view', 'home', 'home'), ('Back', 'Back to previous …"
      ]
     },
     "metadata": {},
     "output_type": "display_data"
    },
    {
     "data": {
      "text/plain": [
       "<rospy.topics.Subscriber at 0x7fbc6805aa00>"
      ]
     },
     "execution_count": 3,
     "metadata": {},
     "output_type": "execute_result"
    }
   ],
   "source": [
    "# make a subscriber for (positon_topic)\n",
    "from assignment_2_2023.msg import Vel\n",
    "import matplotlib.pyplot as plt\n",
    "import matplotlib\n",
    "\n",
    "x_list = []\n",
    "y_list = []\n",
    "\n",
    "%matplotlib widget\n",
    "fig = plt.figure()\n",
    "ax = fig.add_axes([0, 0, 1, 1])\n",
    "def position_plot_callback(message):\n",
    "    # make a list of x and y coordinates \n",
    "    global x_list, y_list\n",
    "    x_list.append(message.pos_x)\n",
    "    y_list.append(message.pos_y)\n",
    "    # plot those in a live plot\n",
    "    plt.cla()\n",
    "    ax.plot(x_list, y_list)\n",
    "#     plt.plot(x_list, y_list)\n",
    "#     plt.show()\n",
    "\n",
    "rospy.Subscriber('/pos_vel', Vel, position_plot_callback)\n"
   ]
  },
  {
   "cell_type": "code",
   "execution_count": null,
   "id": "c89ba36a",
   "metadata": {},
   "outputs": [],
   "source": []
  }
 ],
 "metadata": {
  "kernelspec": {
   "display_name": "Python 3 (ipykernel)",
   "language": "python",
   "name": "python3"
  },
  "language_info": {
   "codemirror_mode": {
    "name": "ipython",
    "version": 3
   },
   "file_extension": ".py",
   "mimetype": "text/x-python",
   "name": "python",
   "nbconvert_exporter": "python",
   "pygments_lexer": "ipython3",
   "version": "3.8.5"
  }
 },
 "nbformat": 4,
 "nbformat_minor": 5
}
